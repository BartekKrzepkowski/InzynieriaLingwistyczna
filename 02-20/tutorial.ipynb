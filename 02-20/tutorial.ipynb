{
  "nbformat": 4,
  "nbformat_minor": 0,
  "metadata": {
    "colab": {
      "name": "Tutorial.ipynb",
      "version": "0.3.2",
      "provenance": [],
      "collapsed_sections": []
    },
    "kernelspec": {
      "name": "python2",
      "display_name": "Python 2"
    },
    "accelerator": "GPU"
  },
  "cells": [
    {
      "metadata": {
        "id": "5fksiOkmz0P2",
        "colab_type": "text"
      },
      "cell_type": "markdown",
      "source": [
        "# Powtórka z Pythona"
      ]
    },
    {
      "metadata": {
        "id": "MNftOhqngQTg",
        "colab_type": "text"
      },
      "cell_type": "markdown",
      "source": [
        "## Pierwsze kroki\n",
        "\n",
        "Poruszanie w colabie. Używajmy kursorów do przechodzenia pomiędzy komórkami. Aby wykonać kod w danej komórce użyjmy Shift+Enter"
      ]
    },
    {
      "metadata": {
        "id": "qLuNDoBJtx-5",
        "colab_type": "code",
        "colab": {}
      },
      "cell_type": "code",
      "source": [
        "2+2"
      ],
      "execution_count": 0,
      "outputs": []
    },
    {
      "metadata": {
        "id": "M0kCRmo4gru_",
        "colab_type": "text"
      },
      "cell_type": "markdown",
      "source": [
        "Mała powtórka z różnych zmiennych w Pythonie:"
      ]
    },
    {
      "metadata": {
        "id": "6_Ns1Avf2acP",
        "colab_type": "code",
        "colab": {}
      },
      "cell_type": "code",
      "source": [
        "a = 5\n",
        "b = 8\n",
        "c=a+b\n",
        "print(\"Wynik to {}\".format(c))"
      ],
      "execution_count": 0,
      "outputs": []
    },
    {
      "metadata": {
        "id": "QwlDeTrjhZkx",
        "colab_type": "text"
      },
      "cell_type": "markdown",
      "source": [
        "Podstawowe operacje na łańcuchach:"
      ]
    },
    {
      "metadata": {
        "id": "-MWL2OQxhZ-C",
        "colab_type": "code",
        "colab": {}
      },
      "cell_type": "code",
      "source": [
        "pierwsze_zdanie = \"To jest\"\n",
        "drugie_zdanie = \" drzewo.\"\n",
        "suma = pierwsze_zdanie + drugie_zdanie\n",
        "print(suma)"
      ],
      "execution_count": 0,
      "outputs": []
    },
    {
      "metadata": {
        "id": "759sbBrU-_Wz",
        "colab_type": "text"
      },
      "cell_type": "markdown",
      "source": [
        "Inne operacje na łańcuchach."
      ]
    },
    {
      "metadata": {
        "id": "7liXpEgG_EU4",
        "colab_type": "code",
        "colab": {}
      },
      "cell_type": "code",
      "source": [
        "length = len(suma)\n",
        "print(\"Długość całego zdania to: {}\".format(length))\n"
      ],
      "execution_count": 0,
      "outputs": []
    },
    {
      "metadata": {
        "id": "GoHVmci1_o1E",
        "colab_type": "text"
      },
      "cell_type": "markdown",
      "source": [
        "Łańcuch to lista znaków - można sie odwoływać do poszczególnych indeksów:\n"
      ]
    },
    {
      "metadata": {
        "id": "Kx9FBpJ5_wfq",
        "colab_type": "code",
        "colab": {}
      },
      "cell_type": "code",
      "source": [
        "pierwsze_4_znaki = suma[0:4] #suma[:4]\n",
        "print(pierwsze_4_znaki)"
      ],
      "execution_count": 0,
      "outputs": []
    },
    {
      "metadata": {
        "id": "N6yNRALW4YqS",
        "colab_type": "text"
      },
      "cell_type": "markdown",
      "source": [
        "## Warunki i pętle\n",
        "\n",
        "If, elif, else służą do sprawdzenia czy dane wyrażenie jest prawdziwe:\n",
        "\n"
      ]
    },
    {
      "metadata": {
        "id": "6sDtmLyP4pmL",
        "colab_type": "code",
        "colab": {}
      },
      "cell_type": "code",
      "source": [
        "if 5%2 == 2:\n",
        "  print('5%2=2')\n",
        "elif 5%2 == 1:\n",
        "  print('5%2=1')\n",
        "else:\n",
        "  print(\"I don't know\")"
      ],
      "execution_count": 0,
      "outputs": []
    },
    {
      "metadata": {
        "id": "WmhZ6sA95WPt",
        "colab_type": "text"
      },
      "cell_type": "markdown",
      "source": [
        "Pętle pozwalają iterować po kolejnych liczbach albo po elementach listy lub słownika."
      ]
    },
    {
      "metadata": {
        "id": "tSsfXS4W5LWl",
        "colab_type": "code",
        "colab": {}
      },
      "cell_type": "code",
      "source": [
        "for i in range(5):\n",
        "  print(i)\n",
        "  \n",
        "lista = [\"To\", \"jest\", \"lista\"]\n",
        "for elem in lista:\n",
        "  print(elem + elem)"
      ],
      "execution_count": 0,
      "outputs": []
    },
    {
      "metadata": {
        "id": "lLb3utPV0F_3",
        "colab_type": "text"
      },
      "cell_type": "markdown",
      "source": [
        "## Struktury danych\n",
        "\n",
        "Listy:"
      ]
    },
    {
      "metadata": {
        "id": "hTyJTNM40NH_",
        "colab_type": "code",
        "colab": {}
      },
      "cell_type": "code",
      "source": [
        "li = [1,2,4,5,3]\n",
        "words = ['Ala', 'ma', 'kota']\n",
        "print(li)\n",
        "print(\"-\".join(words))"
      ],
      "execution_count": 0,
      "outputs": []
    },
    {
      "metadata": {
        "id": "7JPITLeG6V3E",
        "colab_type": "text"
      },
      "cell_type": "markdown",
      "source": [
        "Można też odwoływać się do indeksów listy:"
      ]
    },
    {
      "metadata": {
        "id": "BPT-OLY_6UVz",
        "colab_type": "code",
        "colab": {}
      },
      "cell_type": "code",
      "source": [
        "list_length = len(words)\n",
        "print(\"List length is {}\".format(list_length))\n",
        "for i in range(list_length):\n",
        "  print(\"Słowo {} jest {} w kolejności\".format(words[i], i))"
      ],
      "execution_count": 0,
      "outputs": []
    },
    {
      "metadata": {
        "id": "G6DQ8OQb6-HM",
        "colab_type": "text"
      },
      "cell_type": "markdown",
      "source": [
        "### Zadanie\n",
        "\n",
        "Napisz funkcję \n",
        "\n",
        "```check_if_palindrome```\n",
        "\n",
        "która sprawdzi czy dany łańcuch jest palindromem"
      ]
    },
    {
      "metadata": {
        "id": "XY9aNuV48XE1",
        "colab_type": "code",
        "colab": {}
      },
      "cell_type": "code",
      "source": [
        "#tutaj jest miejsce na kod"
      ],
      "execution_count": 0,
      "outputs": []
    },
    {
      "metadata": {
        "id": "Ex4SXwry08k1",
        "colab_type": "text"
      },
      "cell_type": "markdown",
      "source": [
        "### Zadanie\n",
        "Dodaj element 6 do listy` li`\n",
        "\n",
        "Usuń czasownik *ma* z listy `words`.\n",
        "\n",
        "Posortuj listę `li` od największego do najmniejszego elementu.\n",
        "\n",
        "Wypisz obie listy na wyjście."
      ]
    },
    {
      "metadata": {
        "id": "R9UdEgrk1Thx",
        "colab_type": "code",
        "colab": {}
      },
      "cell_type": "code",
      "source": [
        "#tutaj jest miejsce na kod"
      ],
      "execution_count": 0,
      "outputs": []
    },
    {
      "metadata": {
        "id": "knRA_LGT3jbJ",
        "colab_type": "text"
      },
      "cell_type": "markdown",
      "source": [
        "### Zadanie\n",
        "\n",
        "Napisz funkcję\n",
        "\n",
        "`check_if_four()`\n",
        "\n",
        "która sprawdzi czy w liście znajduje się element o wartości 4. Argumentem powinna być lista, a na wyjściu wartość True albo false.\n"
      ]
    },
    {
      "metadata": {
        "id": "0yLXzKhE3vBf",
        "colab_type": "code",
        "colab": {}
      },
      "cell_type": "code",
      "source": [
        "#tutaj jest miejce na kod"
      ],
      "execution_count": 0,
      "outputs": []
    },
    {
      "metadata": {
        "id": "uv8-9-hHdz6d",
        "colab_type": "text"
      },
      "cell_type": "markdown",
      "source": [
        "### Zadanie \n",
        "\n",
        "Napisz funkcje \n",
        "\n",
        "```max_elem```\n",
        "\n",
        "która zwróci i wypisze najwyższy element w liście. Argumentem powinna być lista."
      ]
    },
    {
      "metadata": {
        "id": "rvqTAH_H0i-u",
        "colab_type": "text"
      },
      "cell_type": "markdown",
      "source": [
        "Słowniki:"
      ]
    },
    {
      "metadata": {
        "id": "s4zr6sM50lbq",
        "colab_type": "code",
        "colab": {}
      },
      "cell_type": "code",
      "source": [
        "di = {\"Ala\":5, \"Bartek\":4, \"Celina\":2, \"Darek\":1}\n",
        "print(di[\"Ala\"])"
      ],
      "execution_count": 0,
      "outputs": []
    },
    {
      "metadata": {
        "id": "wqPPt-og1Yx-",
        "colab_type": "text"
      },
      "cell_type": "markdown",
      "source": [
        "### Zadanie \n",
        "\n",
        "Dodaj nowy (dowolny) rekord do słownika `di` z oceną 3\n",
        "\n",
        "Wypisz posortowany słownik od najlepszych do najgorszych ocen.\n",
        "\n"
      ]
    },
    {
      "metadata": {
        "id": "H2l77UGs55gQ",
        "colab_type": "code",
        "colab": {}
      },
      "cell_type": "code",
      "source": [
        "#tutaj jest miejsce na kod"
      ],
      "execution_count": 0,
      "outputs": []
    },
    {
      "metadata": {
        "id": "qbX4efZj7p7K",
        "colab_type": "text"
      },
      "cell_type": "markdown",
      "source": [
        "Chcemy sprawdzić czy lista `li`  jest unikalna - tzn czy każdy element występuje tylko raz. Zaimplementuj funkcję\n",
        "\n",
        "`sprawdz_czy_unikalna()`\n",
        "\n",
        "Jej argumentem powinna być lista, a na wyjściu powinna być wartość True / False, w zależności od wyniku."
      ]
    },
    {
      "metadata": {
        "id": "40eDizPWzZFS",
        "colab_type": "code",
        "colab": {}
      },
      "cell_type": "code",
      "source": [
        "#tutaj jest miejsce na kod"
      ],
      "execution_count": 0,
      "outputs": []
    },
    {
      "metadata": {
        "id": "UP64wiYGkvfH",
        "colab_type": "text"
      },
      "cell_type": "markdown",
      "source": [
        "# Przetwarzanie tekstu\n",
        "\n"
      ]
    },
    {
      "metadata": {
        "id": "aBTEMAEhk5xu",
        "colab_type": "code",
        "colab": {}
      },
      "cell_type": "code",
      "source": [
        "import re\n",
        "import pandas as pd \n",
        "import numpy as np \n",
        "import matplotlib.pyplot as plt \n",
        "import seaborn as sns\n",
        "import string\n",
        "import nltk\n",
        "import warnings \n",
        "warnings.filterwarnings(\"ignore\", category=DeprecationWarning)\n",
        "\n",
        "%matplotlib inline\n",
        "\n",
        "!git clone https://github.com/hafidhfikri/Practice-Twitter-Sentiment-Analysis.git\n",
        "\n",
        "  \n",
        "train  = pd.read_csv('Practice-Twitter-Sentiment-Analysis/train_E6oV3lV.csv')\n",
        "test = pd.read_csv('Practice-Twitter-Sentiment-Analysis/test_tweets_anuFYb8.csv')\n",
        "\n",
        "train.head()\n",
        "\n"
      ],
      "execution_count": 0,
      "outputs": []
    },
    {
      "metadata": {
        "id": "NYRd0j4BnIO5",
        "colab_type": "text"
      },
      "cell_type": "markdown",
      "source": [
        "Follow the page: https://www.analyticsvidhya.com/blog/2018/07/hands-on-sentiment-analysis-dataset-python/\n"
      ]
    }
  ]
}