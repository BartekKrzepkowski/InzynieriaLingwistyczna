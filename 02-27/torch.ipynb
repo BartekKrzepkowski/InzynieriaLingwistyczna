{
  "nbformat": 4,
  "nbformat_minor": 0,
  "metadata": {
    "colab": {
      "name": "torch.ipynb",
      "version": "0.3.2",
      "provenance": []
    },
    "kernelspec": {
      "name": "python3",
      "display_name": "Python 3"
    }
  },
  "cells": [
    {
      "metadata": {
        "id": "_ne7pRdYc2tc",
        "colab_type": "text"
      },
      "cell_type": "markdown",
      "source": [
        "### Zadania\n",
        "\n",
        "1.   Ulepsz działanie sieci poprzez dodanie funkcji aktywacji\n",
        "2.   Ulepsz działanie siecie poprzez dodanie nowej warstwy\n",
        "3.   Naucz sieć poprawnych odpowiedzi dla zdania logicznego (p v q) => r"
      ]
    },
    {
      "metadata": {
        "id": "pCF1sRjDc2BF",
        "colab_type": "code",
        "colab": {}
      },
      "cell_type": "code",
      "source": [
        "import numpy as np\n",
        "import torch\n",
        "\n",
        "# N is batch size; \n",
        "# D_in is input dimension;\n",
        "# D_out is output dimension.\n",
        "\n",
        "D_in, D_out = 2, 1\n",
        "\n",
        "x_numpy = np.array(    [[0., 0.],\n",
        "                        [0., 1.],\n",
        "                        [1., 0.],\n",
        "                        [1., 1.]])\n",
        "\n",
        "y_numpy = np.array(     [[0.],\n",
        "                         [0.],\n",
        "                         [0.],\n",
        "                         [1.]])\n",
        "\n",
        "\n",
        "\n",
        "x = torch.from_numpy(x_numpy).float()\n",
        "y = torch.from_numpy(y_numpy).float()\n",
        "\n",
        "\n",
        "model = torch.nn.Sequential(\n",
        "    torch.nn.Linear(D_in, D_out)\n",
        ")\n",
        "loss_fn = torch.nn.MSELoss(reduction='sum')\n",
        "\n",
        "epochs = 50\n",
        "learning_rate = 1e-6\n",
        "optimizer = torch.optim.Adam(model.parameters(), lr=learning_rate)\n",
        "loss_list = []\n",
        "\n",
        "for t in range(epochs):\n",
        "    # Forward pass\n",
        "    y_pred = model(x)\n",
        "\n",
        "    # Compute and print loss.\n",
        "    loss = loss_fn(y_pred, y)\n",
        "    #print(t, loss.item())\n",
        "    loss_list.append(loss)\n",
        "    optimizer.zero_grad()\n",
        "\n",
        "    # Backward pass\n",
        "    loss.backward()\n",
        "\n",
        "    # Update to parameters\n",
        "    optimizer.step()\n",
        "    \n",
        "y_test = model(x)\n",
        "print(\"Results:\")\n",
        "print(y_test)\n",
        "\n",
        "import matplotlib.pyplot as plt\n",
        "plt.plot(loss_list)\n",
        "plt.ylabel('Loss value')\n",
        "plt.xlabel('Epoch')\n",
        "plt.show()\n"
      ],
      "execution_count": 0,
      "outputs": []
    }
  ]
}