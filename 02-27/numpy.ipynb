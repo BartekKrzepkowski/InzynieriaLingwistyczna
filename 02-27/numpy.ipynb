{
  "nbformat": 4,
  "nbformat_minor": 0,
  "metadata": {
    "colab": {
      "name": "numpy.ipynb",
      "version": "0.3.2",
      "provenance": []
    },
    "kernelspec": {
      "name": "python3",
      "display_name": "Python 3"
    }
  },
  "cells": [
    {
      "metadata": {
        "id": "D0U8H6t8ZC37",
        "colab_type": "code",
        "colab": {}
      },
      "cell_type": "code",
      "source": [
        "import numpy as np"
      ],
      "execution_count": 0,
      "outputs": []
    },
    {
      "metadata": {
        "id": "WQoCKMOFZKnv",
        "colab_type": "text"
      },
      "cell_type": "markdown",
      "source": [
        "Numpy to biblioteka służąca do operacji na macierzach "
      ]
    },
    {
      "metadata": {
        "id": "4o0xdDaPZMg9",
        "colab_type": "code",
        "colab": {}
      },
      "cell_type": "code",
      "source": [
        "a = np.arange(15).reshape(3, 5)\n",
        "print(a)\n",
        "\n",
        "print(\"a size is {}\".format(a.shape))\n",
        "print('\\n')\n",
        "\n",
        "b = a.reshape(5,3)\n",
        "print(b)\n",
        "print('\\n')\n",
        "\n",
        "\n",
        "zero_matrix = np.zeros((2,3))\n",
        "print(zero_matrix)\n",
        "print('\\n')\n",
        "one_matrix = np.ones((4,2))\n",
        "print(one_matrix)\n"
      ],
      "execution_count": 0,
      "outputs": []
    },
    {
      "metadata": {
        "id": "OqS-VQXDZPHk",
        "colab_type": "text"
      },
      "cell_type": "markdown",
      "source": [
        "Podstawowe operacje na macierzach:"
      ]
    },
    {
      "metadata": {
        "id": "_Q0Pg5ObZRSk",
        "colab_type": "code",
        "colab": {}
      },
      "cell_type": "code",
      "source": [
        "A = np.array( [[1,1],\n",
        "               [0,1]] )\n",
        "print(\"A\")\n",
        "print(A)\n",
        "print('\\n')\n",
        "\n",
        "B = np.array( [[2,0],\n",
        "               [3,4]] )\n",
        "\n",
        "print(\"B\")\n",
        "print(B)\n",
        "print('\\n')\n",
        "\n",
        "print('B\\'')\n",
        "print(B.T)\n",
        "print('\\n')\n",
        "\n",
        "print(\"A * B\")\n",
        "print(A * B)\n",
        "print('\\n')\n",
        "\n",
        "print(\"A x B\")\n",
        "print(A.dot(B))\n",
        "print('\\n')\n",
        "\n",
        "print(\"B x A\")\n",
        "print(B.dot(A))\n",
        "print('\\n')\n",
        "\n",
        "print(\"A - B\")\n",
        "print(A-B)\n",
        "print('\\n')\n",
        "\n",
        "print(\"A + B\")\n",
        "print(A+B)\n",
        "print('\\n')\n",
        "\n",
        "print(\"A + 3\")\n",
        "print(A+3)\n",
        "print('\\n')\n",
        "\n",
        "print(\"B^2\")\n",
        "print(B*2)\n",
        "print('\\n')"
      ],
      "execution_count": 0,
      "outputs": []
    },
    {
      "metadata": {
        "id": "6zpB125fZVYP",
        "colab_type": "text"
      },
      "cell_type": "markdown",
      "source": [
        "### Zadanie\n",
        "\n",
        "Korzystając z powyższych informacji  i mnożenia macieży skonstruuj \"tabliczkę mnożenia\"."
      ]
    }
  ]
}