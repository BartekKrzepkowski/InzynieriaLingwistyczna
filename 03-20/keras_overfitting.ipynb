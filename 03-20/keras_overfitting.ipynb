{
  "nbformat": 4,
  "nbformat_minor": 0,
  "metadata": {
    "colab": {
      "name": "keras_overfitting.ipynb",
      "version": "0.3.2",
      "provenance": []
    },
    "kernelspec": {
      "name": "python3",
      "display_name": "Python 3"
    }
  },
  "cells": [
    {
      "metadata": {
        "id": "VtZCEV3mZfJB",
        "colab_type": "text"
      },
      "cell_type": "markdown",
      "source": [
        "Importujemy biblioteki:"
      ]
    },
    {
      "metadata": {
        "id": "vx5I6OeaZiTt",
        "colab_type": "code",
        "colab": {}
      },
      "cell_type": "code",
      "source": [
        "from keras.models import Sequential\n",
        "from keras.layers import Dense\n",
        "from keras.layers import Activation\n",
        "from matplotlib import pyplot\n",
        "import numpy as np"
      ],
      "execution_count": 0,
      "outputs": []
    },
    {
      "metadata": {
        "id": "epN_YwGcZjSv",
        "colab_type": "text"
      },
      "cell_type": "markdown",
      "source": [
        "Generujemy i wyświetlamy dane wejściowe"
      ]
    },
    {
      "metadata": {
        "id": "cBxlWn8BZrQ6",
        "colab_type": "code",
        "colab": {}
      },
      "cell_type": "code",
      "source": [
        "X = np.array([[0.],\n",
        "              [0.1],\n",
        "              [0.2],\n",
        "              [0.3],\n",
        "              [0.4]])\n",
        "\n",
        "\n",
        "y = np.array([[0.1],\n",
        "              [0.2],\n",
        "              [0.3],\n",
        "              [0.4],\n",
        "              [0.5]])\n",
        "\n",
        "valX = np.array([[1],\n",
        "                 [1.1],\n",
        "                 [1.2],\n",
        "                 [1.3],\n",
        "                 [1.4]])\n",
        "\n",
        "\n",
        "valY = np.array([[1.1],\n",
        "                 [1.2],\n",
        "                 [1.3],\n",
        "                 [1.4],\n",
        "                 [1.5]])"
      ],
      "execution_count": 0,
      "outputs": []
    },
    {
      "metadata": {
        "id": "SQxwrWWcZ1Dr",
        "colab_type": "text"
      },
      "cell_type": "markdown",
      "source": [
        "ZADANIE: przedstaw dane treningowe i testowe wykresach korzystając z pakietu matplotlib."
      ]
    },
    {
      "metadata": {
        "id": "MrJX0R8vZ-UR",
        "colab_type": "code",
        "colab": {}
      },
      "cell_type": "code",
      "source": [
        ""
      ],
      "execution_count": 0,
      "outputs": []
    },
    {
      "metadata": {
        "id": "l2kGnnOhZ_tj",
        "colab_type": "text"
      },
      "cell_type": "markdown",
      "source": [
        "Tworzymy prostą sieć neuronową i trenujemy ją."
      ]
    },
    {
      "metadata": {
        "id": "sscG8xuUX1e_",
        "colab_type": "code",
        "colab": {}
      },
      "cell_type": "code",
      "source": [
        "model = Sequential()\n",
        "model.add(Dense(100, input_shape = (1,)))\n",
        "model.add(Activation('tanh'))\n",
        "model.add(Dense(1))\n",
        "model.add(Activation('tanh'))\n",
        "model.compile(loss='mse', optimizer='adam')\n",
        "\n",
        "history = model.fit(X, y, epochs=5, validation_data=(valX, valY))\n",
        "\n"
      ],
      "execution_count": 0,
      "outputs": []
    },
    {
      "metadata": {
        "id": "-rnhHUdjadEE",
        "colab_type": "text"
      },
      "cell_type": "markdown",
      "source": [
        "  ZADANIE: zrób wykres funkcji straty dla trainsetu i testsetu (z legendą i oznaczeniem na osiach)"
      ]
    },
    {
      "metadata": {
        "id": "PZRDe3KBa1eR",
        "colab_type": "code",
        "colab": {}
      },
      "cell_type": "code",
      "source": [
        "train_loss = history.history['loss']\n",
        "val_loss = history.history['val_loss']\n",
        "\n",
        "#Tu jest miejsca na dalszy kod"
      ],
      "execution_count": 0,
      "outputs": []
    },
    {
      "metadata": {
        "id": "O1ym-iPgbUh_",
        "colab_type": "text"
      },
      "cell_type": "markdown",
      "source": [
        "ZADANIE: zrób wykres wyników naszej sieci:"
      ]
    },
    {
      "metadata": {
        "id": "Fs7o9TaKbmGR",
        "colab_type": "code",
        "colab": {}
      },
      "cell_type": "code",
      "source": [
        "train_results = model.predict(X)\n",
        "test_results = model.predict(valX)\n",
        "\n",
        "#Tu jest miejsca na dalszy kod"
      ],
      "execution_count": 0,
      "outputs": []
    },
    {
      "metadata": {
        "id": "6G5kiMtobr9I",
        "colab_type": "text"
      },
      "cell_type": "markdown",
      "source": [
        "ZADANIE: Czy sieć działa jak powinna? Co widać na wykresie? Popraw ją, tak, żeby wyniki były lepsze. "
      ]
    },
    {
      "metadata": {
        "id": "zrT9Ke9Wb7Or",
        "colab_type": "code",
        "colab": {}
      },
      "cell_type": "code",
      "source": [
        ""
      ],
      "execution_count": 0,
      "outputs": []
    }
  ]
}